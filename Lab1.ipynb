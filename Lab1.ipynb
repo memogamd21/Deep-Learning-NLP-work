{
 "cells": [
  {
   "cell_type": "markdown",
   "metadata": {
    "colab_type": "text",
    "id": "y2VMQrxvDa0t"
   },
   "source": [
    "<h1 align=\"center\">Zewail University of Science and Technology</h1>\n",
    "<h2 align=\"center\">CIE 553 (Spring 2019)</h2>\n",
    "<h2 align=\"center\">Lab 1: Python Tutorial</h3>\n",
    "<h3 align=\"center\">31/01/2019</h3>"
   ]
  },
  {
   "cell_type": "markdown",
   "metadata": {
    "colab_type": "text",
    "id": "echFTCL1Da0x"
   },
   "source": [
    "### Dynamically Typed Language"
   ]
  },
  {
   "cell_type": "code",
   "execution_count": 0,
   "metadata": {
    "colab": {},
    "colab_type": "code",
    "id": "LRvF9A2PDa0z",
    "outputId": "2dee0486-b952-4fcc-b0e1-36b111fa4a2f"
   },
   "outputs": [
    {
     "name": "stdout",
     "output_type": "stream",
     "text": [
      "2.1\n"
     ]
    }
   ],
   "source": [
    "x = 1 #x is bound to a value of type int\n",
    "x *= 2.1 #x is now bound to another value of type float\n",
    "print (x)"
   ]
  },
  {
   "cell_type": "code",
   "execution_count": 2,
   "metadata": {
    "colab": {},
    "colab_type": "code",
    "id": "vlWOB22TsPcf"
   },
   "outputs": [
    {
     "data": {
      "text/plain": [
       "([1, 2, 3, 4, 5], [1, 2, 3, 4, 5])"
      ]
     },
     "execution_count": 2,
     "metadata": {},
     "output_type": "execute_result"
    }
   ],
   "source": [
    "# every variable is a name binded to an object not a pointer\n",
    "# we pass the objects to functions by reference\n",
    "# here when c = a we bind c to the same object as a thus changing c changes a\n",
    "a = [1,2,3,4]\n",
    "def foo(a):\n",
    "  c = a\n",
    "  c.append(5)\n",
    "  # if we make c = [4,5,6] we bind c to a new object and thus a remains the same\n",
    "  return c,a\n",
    "b = foo(a)\n",
    "b\n",
    "# this help with two main things:\n",
    "# 1) no variable type\n",
    "# 2) Garbage collection (if No name binds to an object, gc removes the object from memory)"
   ]
  },
  {
   "cell_type": "code",
   "execution_count": 4,
   "metadata": {
    "colab": {
     "base_uri": "https://localhost:8080/",
     "height": 51
    },
    "colab_type": "code",
    "executionInfo": {
     "elapsed": 846,
     "status": "ok",
     "timestamp": 1549792077607,
     "user": {
      "displayName": "Youssef Mansour",
      "photoUrl": "",
      "userId": "12155639947958617468"
     },
     "user_tz": -120
    },
    "id": "OrL2Xe4ksah7",
    "outputId": "8fabaa0b-634f-4789-b8e0-a1e7a881b489"
   },
   "outputs": [
    {
     "name": "stdout",
     "output_type": "stream",
     "text": [
      "1818782912\n",
      "1818782912\n"
     ]
    }
   ],
   "source": [
    "# small integers get stored as only 1 object and all variables binds to them for fast access\n",
    "a = 5\n",
    "b = a\n",
    "print(id(a))\n",
    "#b = 5\n",
    "print(id(b))"
   ]
  },
  {
   "cell_type": "markdown",
   "metadata": {
    "colab_type": "text",
    "id": "AePk7JFlDa1C"
   },
   "source": [
    "### Conditional"
   ]
  },
  {
   "cell_type": "code",
   "execution_count": 5,
   "metadata": {
    "colab": {
     "base_uri": "https://localhost:8080/",
     "height": 34
    },
    "colab_type": "code",
    "executionInfo": {
     "elapsed": 1258,
     "status": "ok",
     "timestamp": 1549792072991,
     "user": {
      "displayName": "Youssef Mansour",
      "photoUrl": "",
      "userId": "12155639947958617468"
     },
     "user_tz": -120
    },
    "id": "A88QSy75Da1F",
    "outputId": "343d68a8-9044-46b7-b6df-f4172a0039ed"
   },
   "outputs": [
    {
     "name": "stdout",
     "output_type": "stream",
     "text": [
      "x is greater than y\n"
     ]
    }
   ],
   "source": [
    "x = 2\n",
    "y = 1\n",
    "\n",
    "if x == y:\n",
    "    print(\"x equals y\")\n",
    "elif x > y:\n",
    "    print (\"x is greater than y\")\n",
    "else:\n",
    "    print (\"x is smaller than y\")"
   ]
  },
  {
   "cell_type": "markdown",
   "metadata": {
    "colab_type": "text",
    "id": "SWyefJ-pDa1c"
   },
   "source": [
    "### Strings"
   ]
  },
  {
   "cell_type": "code",
   "execution_count": 6,
   "metadata": {
    "colab": {},
    "colab_type": "code",
    "id": "SXxOmcJgDa1l",
    "outputId": "ba3b142d-ae6b-4214-cb2c-ba2771e2d059"
   },
   "outputs": [
    {
     "name": "stdout",
     "output_type": "stream",
     "text": [
      "This is a single line written in two lines\n"
     ]
    }
   ],
   "source": [
    "x = \"This is a single \\\n",
    "line written in two lines\"  # \\ is used to continue the statement in another line\n",
    "print(x)"
   ]
  },
  {
   "cell_type": "code",
   "execution_count": 7,
   "metadata": {
    "colab": {},
    "colab_type": "code",
    "id": "PMUuh69sDa2T",
    "outputId": "8b6cc975-70ab-4d97-d5f0-1835a2d08a6c"
   },
   "outputs": [
    {
     "name": "stdout",
     "output_type": "stream",
     "text": [
      "This is a\n",
      "three\n",
      "    lines\n",
      "        statement\n"
     ]
    }
   ],
   "source": [
    "x = '''This is a\n",
    "three\n",
    "    lines\n",
    "        statement'''\n",
    "print(x)"
   ]
  },
  {
   "cell_type": "code",
   "execution_count": 8,
   "metadata": {
    "colab": {},
    "colab_type": "code",
    "id": "vxg7IqcnDa2Y",
    "outputId": "8e82bb51-4c59-448e-a5b9-bd6403dab45e"
   },
   "outputs": [
    {
     "name": "stdout",
     "output_type": "stream",
     "text": [
      "Hello\n"
     ]
    }
   ],
   "source": [
    "x = 'Hello World' \n",
    "print(x[0:5]) #strings are indexable"
   ]
  },
  {
   "cell_type": "code",
   "execution_count": 9,
   "metadata": {
    "colab": {},
    "colab_type": "code",
    "id": "kmaO4n5jDa2i",
    "outputId": "d0443ce7-a5dd-4fc2-eef9-33fee75ef061"
   },
   "outputs": [
    {
     "name": "stdout",
     "output_type": "stream",
     "text": [
      "2018\n"
     ]
    }
   ],
   "source": [
    "x = \"20\"\n",
    "y = \"18\"\n",
    "print(x + y) #strings can be concatenated using + operator"
   ]
  },
  {
   "cell_type": "code",
   "execution_count": 11,
   "metadata": {
    "colab": {
     "base_uri": "https://localhost:8080/",
     "height": 34
    },
    "colab_type": "code",
    "executionInfo": {
     "elapsed": 623,
     "status": "ok",
     "timestamp": 1548935505906,
     "user": {
      "displayName": "Youssef Mansour",
      "photoUrl": "",
      "userId": "12155639947958617468"
     },
     "user_tz": -120
    },
    "id": "tvvjzPWCv8iM",
    "outputId": "9084f521-75dc-42f1-acdc-24bab0d41f37"
   },
   "outputs": [
    {
     "data": {
      "text/plain": [
       "'2018'"
      ]
     },
     "execution_count": 11,
     "metadata": {},
     "output_type": "execute_result"
    }
   ],
   "source": [
    "'20'+str(18)"
   ]
  },
  {
   "cell_type": "code",
   "execution_count": 12,
   "metadata": {
    "colab": {},
    "colab_type": "code",
    "id": "2mPAS2XxDa2m",
    "outputId": "6984802b-e621-4b34-95f4-f9e27bb7ca94"
   },
   "outputs": [
    {
     "name": "stdout",
     "output_type": "stream",
     "text": [
      "2018\n",
      "2018.00\n",
      "2018\n"
     ]
    }
   ],
   "source": [
    "#non-string objects can be converted to strings using str() or format()\n",
    "x = \"20\"\n",
    "y = 18\n",
    "print(x + str(y))\n",
    "print(x + format(y, \"0.2f\"))\n",
    "print(x + format(y, \"d\"))"
   ]
  },
  {
   "cell_type": "code",
   "execution_count": 15,
   "metadata": {
    "colab": {},
    "colab_type": "code",
    "id": "jmZiB72jDa2t",
    "outputId": "75f0be26-6387-4cd1-d37a-538ce215e8e4"
   },
   "outputs": [
    {
     "ename": "TypeError",
     "evalue": "'str' object does not support item assignment",
     "output_type": "error",
     "traceback": [
      "\u001b[1;31m---------------------------------------------------------------------------\u001b[0m",
      "\u001b[1;31mTypeError\u001b[0m                                 Traceback (most recent call last)",
      "\u001b[1;32m<ipython-input-15-4aa45294cf9e>\u001b[0m in \u001b[0;36m<module>\u001b[1;34m()\u001b[0m\n\u001b[0;32m      1\u001b[0m \u001b[0mx\u001b[0m \u001b[1;33m=\u001b[0m \u001b[1;34m\"Hello\"\u001b[0m\u001b[1;33m\u001b[0m\u001b[0m\n\u001b[1;32m----> 2\u001b[1;33m \u001b[0mx\u001b[0m\u001b[1;33m[\u001b[0m\u001b[1;36m1\u001b[0m\u001b[1;33m]\u001b[0m \u001b[1;33m=\u001b[0m \u001b[1;34m's'\u001b[0m \u001b[1;31m#strings are immutable\u001b[0m\u001b[1;33m\u001b[0m\u001b[0m\n\u001b[0m",
      "\u001b[1;31mTypeError\u001b[0m: 'str' object does not support item assignment"
     ]
    }
   ],
   "source": [
    "x = \"Hello\"\n",
    "x[1] = 's' #strings are immutable"
   ]
  },
  {
   "cell_type": "code",
   "execution_count": 16,
   "metadata": {
    "colab": {
     "base_uri": "https://localhost:8080/",
     "height": 68
    },
    "colab_type": "code",
    "executionInfo": {
     "elapsed": 625,
     "status": "ok",
     "timestamp": 1548935723383,
     "user": {
      "displayName": "Youssef Mansour",
      "photoUrl": "",
      "userId": "12155639947958617468"
     },
     "user_tz": -120
    },
    "id": "5JQTKGQQH5HS",
    "outputId": "dfe80bd9-f58d-4704-9abf-f8f3d10dc384"
   },
   "outputs": [
    {
     "name": "stdout",
     "output_type": "stream",
     "text": [
      "Hello jo\n",
      "you are 23 old\n",
      "pi equals |*****3.142*****|\n"
     ]
    }
   ],
   "source": [
    "# string formating\n",
    "name = 'jo'\n",
    "age = 23\n",
    "s = \"Hello %s\\nyou are %s old\" % (name, age)\n",
    "s = \"Hello {1}\\nyou are {0} old\".format(age,name)\n",
    "s = f\"Hello {name}\\nyou are {age} old\"\n",
    "print(s)\n",
    "pi = 3.14159265359\n",
    "s = f\"pi equals |{pi:*^15.3f}|\"\n",
    "print(s)"
   ]
  },
  {
   "cell_type": "markdown",
   "metadata": {
    "colab_type": "text",
    "id": "9MR0xJNdDa2x"
   },
   "source": [
    "### Lists"
   ]
  },
  {
   "cell_type": "code",
   "execution_count": 17,
   "metadata": {
    "colab": {},
    "colab_type": "code",
    "id": "YtMTb9g4Da2y"
   },
   "outputs": [],
   "source": [
    "x = [\"Hello\", \"World\", \".\"]"
   ]
  },
  {
   "cell_type": "code",
   "execution_count": 18,
   "metadata": {
    "colab": {
     "base_uri": "https://localhost:8080/",
     "height": 34
    },
    "colab_type": "code",
    "executionInfo": {
     "elapsed": 583,
     "status": "ok",
     "timestamp": 1548935764981,
     "user": {
      "displayName": "Youssef Mansour",
      "photoUrl": "",
      "userId": "12155639947958617468"
     },
     "user_tz": -120
    },
    "id": "X-qiBHo2Da20",
    "outputId": "50a771f7-4777-4130-b51c-8ba55875bdc7"
   },
   "outputs": [
    {
     "name": "stdout",
     "output_type": "stream",
     "text": [
      "Hello\n"
     ]
    }
   ],
   "source": [
    "#lists are indexable\n",
    "print (x[0])"
   ]
  },
  {
   "cell_type": "code",
   "execution_count": 19,
   "metadata": {
    "colab": {
     "base_uri": "https://localhost:8080/",
     "height": 51
    },
    "colab_type": "code",
    "executionInfo": {
     "elapsed": 591,
     "status": "ok",
     "timestamp": 1548935771575,
     "user": {
      "displayName": "Youssef Mansour",
      "photoUrl": "",
      "userId": "12155639947958617468"
     },
     "user_tz": -120
    },
    "id": "kznNj7aADa24",
    "outputId": "98578e58-f326-4d21-a9e3-6922812662a1"
   },
   "outputs": [
    {
     "name": "stdout",
     "output_type": "stream",
     "text": [
      ".\n",
      "!\n"
     ]
    }
   ],
   "source": [
    "#lists are mutable\n",
    "print (x[2])\n",
    "x[2] = \"!\"\n",
    "print (x[2])"
   ]
  },
  {
   "cell_type": "code",
   "execution_count": 0,
   "metadata": {
    "colab": {
     "base_uri": "https://localhost:8080/",
     "height": 34
    },
    "colab_type": "code",
    "executionInfo": {
     "elapsed": 587,
     "status": "ok",
     "timestamp": 1548935778075,
     "user": {
      "displayName": "Youssef Mansour",
      "photoUrl": "",
      "userId": "12155639947958617468"
     },
     "user_tz": -120
    },
    "id": "PVMtwnjhDa2-",
    "outputId": "d540096f-d0ff-4fe5-e0fa-fb07744bae7e"
   },
   "outputs": [
    {
     "name": "stdout",
     "output_type": "stream",
     "text": [
      "['Hello', 'World', '!', '!']\n"
     ]
    }
   ],
   "source": [
    "#appending items at the end\n",
    "x.append(\"!\")\n",
    "print (x)"
   ]
  },
  {
   "cell_type": "code",
   "execution_count": 0,
   "metadata": {
    "colab": {
     "base_uri": "https://localhost:8080/",
     "height": 34
    },
    "colab_type": "code",
    "executionInfo": {
     "elapsed": 562,
     "status": "ok",
     "timestamp": 1548935782059,
     "user": {
      "displayName": "Youssef Mansour",
      "photoUrl": "",
      "userId": "12155639947958617468"
     },
     "user_tz": -120
    },
    "id": "za18ceIIDa3D",
    "outputId": "7c855ee2-8100-421f-f756-7f3f2c9c4871"
   },
   "outputs": [
    {
     "name": "stdout",
     "output_type": "stream",
     "text": [
      "['Hello', ',', 'World', '!', '!']\n"
     ]
    }
   ],
   "source": [
    "#inserting items in the middle\n",
    "x.insert(1,\",\")\n",
    "print (x)"
   ]
  },
  {
   "cell_type": "code",
   "execution_count": 0,
   "metadata": {
    "colab": {},
    "colab_type": "code",
    "id": "S_QHBvjiDa3I",
    "outputId": "9eec6554-543d-48d0-862b-7257d80c904c"
   },
   "outputs": [
    {
     "name": "stdout",
     "output_type": "stream",
     "text": [
      "['Hello,', ' ', '.']\n"
     ]
    }
   ],
   "source": [
    "#slicing\n",
    "x[0:2] = ['Hello,', ' ']\n",
    "print(x)"
   ]
  },
  {
   "cell_type": "code",
   "execution_count": 0,
   "metadata": {
    "colab": {},
    "colab_type": "code",
    "id": "BCJhWCbHDa3O",
    "outputId": "3160a84c-4f57-47c8-e530-bdd9bd01efa9"
   },
   "outputs": [
    {
     "name": "stdout",
     "output_type": "stream",
     "text": [
      "['Hello', ', ', 'World', '!']\n"
     ]
    }
   ],
   "source": [
    "#lists Concatenation\n",
    "x = [\"Hello\", \", \"]\n",
    "y = [\"World\", \"!\"]\n",
    "print(x + y)"
   ]
  },
  {
   "cell_type": "code",
   "execution_count": 0,
   "metadata": {
    "colab": {},
    "colab_type": "code",
    "id": "f6KhQCt22ztS"
   },
   "outputs": [],
   "source": [
    "a = [[1,2,3],2, 3,[1,1,1]]\n",
    "b = a.copy()\n",
    "b[1] = 100\n",
    "b[0][1] = 100"
   ]
  },
  {
   "cell_type": "code",
   "execution_count": 0,
   "metadata": {
    "colab": {},
    "colab_type": "code",
    "id": "tIRC4iN1Da3S",
    "outputId": "520029ac-0b9a-4e7b-ba61-76abd24de0e1"
   },
   "outputs": [
    {
     "name": "stdout",
     "output_type": "stream",
     "text": [
      "[', ', 'World']\n",
      ", \n"
     ]
    }
   ],
   "source": [
    "#lists within lists\n",
    "x = [\"Hello\", [\", \", \"World\"], \"!\"]\n",
    "print(x[1])\n",
    "print(x[1][0])"
   ]
  },
  {
   "cell_type": "markdown",
   "metadata": {
    "colab_type": "text",
    "id": "ORK7lYMyDa3V"
   },
   "source": [
    "### Tuples"
   ]
  },
  {
   "cell_type": "code",
   "execution_count": 0,
   "metadata": {
    "colab": {},
    "colab_type": "code",
    "id": "v7SbzWdqDa3V"
   },
   "outputs": [],
   "source": [
    "x= (\"Hello\", \",\")\n",
    "y = \"World\", \"!\"  #This is also a tuple"
   ]
  },
  {
   "cell_type": "code",
   "execution_count": 0,
   "metadata": {
    "colab": {},
    "colab_type": "code",
    "id": "QGbNREXnDa3Y",
    "outputId": "9e18c7e8-7150-4baa-8417-56baa5e6f29e"
   },
   "outputs": [
    {
     "name": "stdout",
     "output_type": "stream",
     "text": [
      "Hello\n",
      "('Hello', ',')\n",
      "('Hello', ',', 'World', '!')\n"
     ]
    }
   ],
   "source": [
    "#indexing\n",
    "print(x[0])\n",
    "\n",
    "#slicing\n",
    "print (x[0:2])\n",
    "\n",
    "#concatenating\n",
    "print (x + y)"
   ]
  },
  {
   "cell_type": "code",
   "execution_count": 0,
   "metadata": {
    "colab": {},
    "colab_type": "code",
    "id": "_jBIKAv8Da3c",
    "outputId": "24bb8d9b-4656-4f02-c814-0412c26c0bdf"
   },
   "outputs": [
    {
     "ename": "TypeError",
     "evalue": "'tuple' object does not support item assignment",
     "output_type": "error",
     "traceback": [
      "\u001b[1;31m---------------------------------------------------------------------------\u001b[0m",
      "\u001b[1;31mTypeError\u001b[0m                                 Traceback (most recent call last)",
      "\u001b[1;32m<ipython-input-153-985c0611f4f6>\u001b[0m in \u001b[0;36m<module>\u001b[1;34m()\u001b[0m\n\u001b[0;32m      1\u001b[0m \u001b[1;31m#tuples are immutable\u001b[0m\u001b[1;33m\u001b[0m\u001b[1;33m\u001b[0m\u001b[0m\n\u001b[1;32m----> 2\u001b[1;33m \u001b[0mx\u001b[0m\u001b[1;33m[\u001b[0m\u001b[1;36m0\u001b[0m\u001b[1;33m]\u001b[0m \u001b[1;33m=\u001b[0m \u001b[1;34m\"s\"\u001b[0m\u001b[1;33m\u001b[0m\u001b[0m\n\u001b[0m",
      "\u001b[1;31mTypeError\u001b[0m: 'tuple' object does not support item assignment"
     ]
    }
   ],
   "source": [
    "#tuples are immutable \n",
    "x[0] = \"s\""
   ]
  },
  {
   "cell_type": "code",
   "execution_count": 0,
   "metadata": {
    "colab": {
     "base_uri": "https://localhost:8080/",
     "height": 34
    },
    "colab_type": "code",
    "executionInfo": {
     "elapsed": 743,
     "status": "ok",
     "timestamp": 1548925999566,
     "user": {
      "displayName": "Youssef Mansour",
      "photoUrl": "",
      "userId": "12155639947958617468"
     },
     "user_tz": -120
    },
    "id": "ubwb79VPLjwf",
    "outputId": "2148b73e-6c68-40ce-9827-82e50f724f57"
   },
   "outputs": [
    {
     "data": {
      "text/plain": [
       "(['a', 2, 3], 's')"
      ]
     },
     "execution_count": 3,
     "metadata": {
      "tags": []
     },
     "output_type": "execute_result"
    }
   ],
   "source": [
    "# but elements are mutable\n",
    "x = ([1,2,3], \"s\")\n",
    "x[0][0] = \"a\"\n",
    "x"
   ]
  },
  {
   "cell_type": "code",
   "execution_count": 0,
   "metadata": {
    "colab": {},
    "colab_type": "code",
    "id": "fwdp71d5Da3e",
    "outputId": "68e50f33-c4bd-4886-f679-d63134a53650"
   },
   "outputs": [
    {
     "name": "stdout",
     "output_type": "stream",
     "text": [
      "Hello\n",
      ",\n"
     ]
    }
   ],
   "source": [
    "#unpacking tuples\n",
    "var1, var2 = x\n",
    "print(var1)\n",
    "print(var2)"
   ]
  },
  {
   "cell_type": "code",
   "execution_count": 0,
   "metadata": {
    "colab": {},
    "colab_type": "code",
    "id": "r-64CCrwDa3h",
    "outputId": "bd261c7c-d900-44d7-e97b-bef930cabf9e"
   },
   "outputs": [
    {
     "data": {
      "text/plain": [
       "([1, 2, 3], 's')"
      ]
     },
     "execution_count": 302,
     "metadata": {
      "tags": []
     },
     "output_type": "execute_result"
    }
   ],
   "source": [
    "x = ([1,2,3], \"s\")\n",
    "x"
   ]
  },
  {
   "cell_type": "markdown",
   "metadata": {
    "colab_type": "text",
    "id": "qptB60LmDa3m"
   },
   "source": [
    "### Sets"
   ]
  },
  {
   "cell_type": "code",
   "execution_count": 0,
   "metadata": {
    "colab": {},
    "colab_type": "code",
    "id": "Vys2yPN8Da3m",
    "outputId": "3fd2101a-a00d-4f3b-9a51-e7e9dfe8c2f9"
   },
   "outputs": [
    {
     "name": "stdout",
     "output_type": "stream",
     "text": [
      "{1, 2, 3}\n",
      "{'H', 'e', 'l', 'o'}\n"
     ]
    }
   ],
   "source": [
    "#sets are unordered and don't contain duplicates\n",
    "x = set([1,2,3,1,2])\n",
    "y = set(\"Hello\")\n",
    "print(x)\n",
    "print(y)"
   ]
  },
  {
   "cell_type": "code",
   "execution_count": 21,
   "metadata": {
    "colab": {},
    "colab_type": "code",
    "id": "r0KgFSYvDa3o",
    "outputId": "5dfd44bd-cd2a-45ce-ba33-efa9d0d7d95a"
   },
   "outputs": [
    {
     "name": "stdout",
     "output_type": "stream",
     "text": [
      "{1, 2, 3, 4, 6}\n",
      "{2}\n",
      "{1, 3}\n",
      "{1, 3, 4, 6}\n"
     ]
    }
   ],
   "source": [
    "x = set([1,2,3])\n",
    "y = set([2,4,6])\n",
    "\n",
    "#union\n",
    "print (x | y)\n",
    "\n",
    "#intersection\n",
    "print (x & y)\n",
    "\n",
    "#difference\n",
    "print (x - y)\n",
    "\n",
    "#symmetric difference\n",
    "print (x ^ y)"
   ]
  },
  {
   "cell_type": "code",
   "execution_count": 22,
   "metadata": {
    "colab": {},
    "colab_type": "code",
    "id": "aV0YMo5HDa3s",
    "outputId": "954f2e0a-43ff-4dbb-f77e-d874c4041745"
   },
   "outputs": [
    {
     "name": "stdout",
     "output_type": "stream",
     "text": [
      "{1, 2, 3, 4}\n",
      "{2, 4, 6, 8, 10}\n"
     ]
    }
   ],
   "source": [
    "#single items can be added using add(), multiple items can be added using update()\n",
    "x.add(4)\n",
    "y.update([6,8,10])\n",
    "print(x)\n",
    "print(y)"
   ]
  },
  {
   "cell_type": "code",
   "execution_count": 0,
   "metadata": {
    "colab": {},
    "colab_type": "code",
    "id": "IMeGEFLUDa3x",
    "outputId": "5e868e3c-57d8-462a-c051-4ea9b1532f8e"
   },
   "outputs": [
    {
     "name": "stdout",
     "output_type": "stream",
     "text": [
      "{1, 2, 4}\n"
     ]
    }
   ],
   "source": [
    "#items can be removed using remove()\n",
    "x.remove(3)\n",
    "print(x)"
   ]
  },
  {
   "cell_type": "markdown",
   "metadata": {
    "colab_type": "text",
    "id": "GfBGdWu6Da30"
   },
   "source": [
    "### Dictionaries"
   ]
  },
  {
   "cell_type": "code",
   "execution_count": 0,
   "metadata": {
    "colab": {},
    "colab_type": "code",
    "id": "L5czL-PCDa33",
    "outputId": "86c347f0-1266-4f79-e161-c2edd8905e9e"
   },
   "outputs": [
    {
     "name": "stdout",
     "output_type": "stream",
     "text": [
      "Ahmed\n"
     ]
    }
   ],
   "source": [
    "#dictionary initialization\n",
    "student = {\"name\" : \"Ahmed\", \"id\":20150001, \"courses\":[\"CIE 417\", \"CIE 418\", \"CIE 419\"]}\n",
    "\n",
    "#accessing members\n",
    "print(student[\"name\"])"
   ]
  },
  {
   "cell_type": "code",
   "execution_count": 0,
   "metadata": {
    "colab": {},
    "colab_type": "code",
    "id": "XIr6kGJ_Da38",
    "outputId": "053f7075-5ba6-4be0-f0b2-441fe478649b"
   },
   "outputs": [
    {
     "name": "stdout",
     "output_type": "stream",
     "text": [
      "{'name': 'Ahmed', 'id': 20150001, 'courses': ['CIE 417', 'CIE 418', 'CIE 419'], 0: 'as', 'GPA': 1.0}\n"
     ]
    }
   ],
   "source": [
    "#check for a dictionary member, and add it if it is not found\n",
    "if \"GPA\" in student:\n",
    "    print(student)\n",
    "else:\n",
    "    student[\"GPA\"] = 1.00\n",
    "    print(student)"
   ]
  },
  {
   "cell_type": "code",
   "execution_count": 0,
   "metadata": {
    "colab": {
     "base_uri": "https://localhost:8080/",
     "height": 34
    },
    "colab_type": "code",
    "executionInfo": {
     "elapsed": 1168,
     "status": "ok",
     "timestamp": 1548926263138,
     "user": {
      "displayName": "Youssef Mansour",
      "photoUrl": "",
      "userId": "12155639947958617468"
     },
     "user_tz": -120
    },
    "id": "5NnhrU96MYO8",
    "outputId": "89aa495c-e7ef-4c10-b9bb-b6a8017a91ca"
   },
   "outputs": [
    {
     "data": {
      "text/plain": [
       "5"
      ]
     },
     "execution_count": 6,
     "metadata": {
      "tags": []
     },
     "output_type": "execute_result"
    }
   ],
   "source": [
    "from collections import defaultdict\n",
    "\n",
    "a = defaultdict(lambda: 5)\n",
    "a['first']"
   ]
  },
  {
   "cell_type": "code",
   "execution_count": 0,
   "metadata": {
    "colab": {},
    "colab_type": "code",
    "id": "OGRo9G4GDa4B",
    "outputId": "f3034254-3667-471d-b667-24c65a91d124"
   },
   "outputs": [
    {
     "name": "stdout",
     "output_type": "stream",
     "text": [
      "Ahmed 01000000000\n"
     ]
    }
   ],
   "source": [
    "#get() function returns the value if found, or return a default value if not\n",
    "name = student.get(\"name\", \"Mohamed\")\n",
    "number = student.get(\"number\", \"01000000000\")\n",
    "print(name,number)"
   ]
  },
  {
   "cell_type": "code",
   "execution_count": 0,
   "metadata": {
    "colab": {},
    "colab_type": "code",
    "id": "ZoXtBD8zDa4D",
    "outputId": "2adaaafe-2dc3-4c55-e565-6cc2944b209c"
   },
   "outputs": [
    {
     "data": {
      "text/plain": [
       "{'name': 'Ahmed',\n",
       " 'id': 20150001,\n",
       " 'courses': ['CIE 417', 'CIE 418', 'CIE 419'],\n",
       " 0: 'as',\n",
       " 'GPA': 1.0,\n",
       " 'number': 10012}"
      ]
     },
     "execution_count": 320,
     "metadata": {
      "tags": []
     },
     "output_type": "execute_result"
    }
   ],
   "source": [
    "student[\"number\"] = int(\"010012\")\n",
    "student"
   ]
  },
  {
   "cell_type": "code",
   "execution_count": 0,
   "metadata": {
    "colab": {},
    "colab_type": "code",
    "id": "zl6-uj3HDa4H",
    "outputId": "85d25ad9-21c1-4027-b972-df48ab8dda49"
   },
   "outputs": [
    {
     "name": "stdout",
     "output_type": "stream",
     "text": [
      "{'name': 'Ahmed', 'id': 20150001, 'courses': ['CIE 417', 'CIE 418', 'CIE 419'], 0: 'as', 'number': 10012}\n"
     ]
    }
   ],
   "source": [
    "#delete dictionary member\n",
    "del student[\"GPA\"]\n",
    "print(student)"
   ]
  },
  {
   "cell_type": "code",
   "execution_count": 0,
   "metadata": {
    "colab": {},
    "colab_type": "code",
    "id": "czw23lTcDa4K",
    "outputId": "57931173-a133-4c7c-d11d-86de492c9b9b"
   },
   "outputs": [
    {
     "name": "stdout",
     "output_type": "stream",
     "text": [
      "['name', 'id', 'courses', 0, 'number']\n"
     ]
    }
   ],
   "source": [
    "#get a list of dictionary keys using list(student)\n",
    "print (list(student))"
   ]
  },
  {
   "cell_type": "code",
   "execution_count": 0,
   "metadata": {
    "colab": {},
    "colab_type": "code",
    "id": "dRLPeFr6Da4M",
    "outputId": "cb5123ec-50f9-4775-9ac9-bac8cf405da2"
   },
   "outputs": [
    {
     "data": {
      "text/plain": [
       "{'name': 'Ahmed',\n",
       " 'id': 20150001,\n",
       " 'courses': ['CIE 417', 'CIE 418', 'CIE 419'],\n",
       " 0: 'as',\n",
       " 'number': None}"
      ]
     },
     "execution_count": 324,
     "metadata": {
      "tags": []
     },
     "output_type": "execute_result"
    }
   ],
   "source": [
    "student[\"number\"] = None\n",
    "student"
   ]
  },
  {
   "cell_type": "code",
   "execution_count": 0,
   "metadata": {
    "colab": {},
    "colab_type": "code",
    "id": "eRYDX4n1Da4R",
    "outputId": "493ddb49-3944-4f06-a0f7-95abfba05c66"
   },
   "outputs": [
    {
     "data": {
      "text/plain": [
       "['Ahmed', 20150001, ['CIE 417', 'CIE 418', 'CIE 419'], 'as', None]"
      ]
     },
     "execution_count": 329,
     "metadata": {
      "tags": []
     },
     "output_type": "execute_result"
    }
   ],
   "source": [
    "list(student.values())"
   ]
  },
  {
   "cell_type": "markdown",
   "metadata": {
    "colab_type": "text",
    "id": "G0pjS5ClDa4a"
   },
   "source": [
    "### Iteration"
   ]
  },
  {
   "cell_type": "code",
   "execution_count": 0,
   "metadata": {
    "colab": {},
    "colab_type": "code",
    "id": "wEWACAbVDa4a",
    "outputId": "f6269c69-6862-49b9-d7d6-72aa8a960967"
   },
   "outputs": [
    {
     "name": "stdout",
     "output_type": "stream",
     "text": [
      "5\n",
      "4\n",
      "3\n",
      "2\n",
      "1\n"
     ]
    }
   ],
   "source": [
    "#while loop\n",
    "x = 5\n",
    "while x:\n",
    "    print(x)\n",
    "    x -= 1"
   ]
  },
  {
   "cell_type": "code",
   "execution_count": 0,
   "metadata": {
    "colab": {},
    "colab_type": "code",
    "id": "qyOlAzW-Da4d",
    "outputId": "b450151e-79b7-4020-8dfc-dfdb497d46c2"
   },
   "outputs": [
    {
     "name": "stdout",
     "output_type": "stream",
     "text": [
      "0 1 2 3 4 5 \n",
      "5 6 7 8 9 10 \n",
      "0 2 4 6 8 10 "
     ]
    }
   ],
   "source": [
    "#for loop using range\n",
    "for i in range(6):\n",
    "    print(i,end=\" \")\n",
    "    \n",
    "print(\"\")\n",
    "for i in range(5, 11):\n",
    "    print(i,end=\" \")\n",
    "    \n",
    "print(\"\")\n",
    "for i in range(0, 11, 2):\n",
    "    print(i,end=\" \")"
   ]
  },
  {
   "cell_type": "code",
   "execution_count": 0,
   "metadata": {
    "colab": {
     "base_uri": "https://localhost:8080/",
     "height": 204
    },
    "colab_type": "code",
    "executionInfo": {
     "elapsed": 1129,
     "status": "ok",
     "timestamp": 1548875658166,
     "user": {
      "displayName": "Youssef Mansour",
      "photoUrl": "",
      "userId": "12155639947958617468"
     },
     "user_tz": -120
    },
    "id": "4EyzhjsDDa4h",
    "outputId": "4b731e0b-b9e0-452f-d305-5250ee0283ec"
   },
   "outputs": [
    {
     "name": "stdout",
     "output_type": "stream",
     "text": [
      "H e l l o \n",
      "\n",
      "W o r l d \n",
      "\n",
      "name Ahmed\n",
      "id 20150001\n",
      "courses ['CIE 417', 'CIE 418', 'CIE 419']\n",
      "\n",
      "\n",
      "Ahmed 20150001 ['CIE 417', 'CIE 418', 'CIE 419']\n",
      "Mohamed 20150002 ['CIE 417', 'CIE 418', 'CIE 419']\n"
     ]
    }
   ],
   "source": [
    "#iterating over iterables\n",
    "\n",
    "#iterating over the characters of a string\n",
    "x = \"Hello\"\n",
    "for c in x:\n",
    "    print (c, end=\" \")\n",
    "    \n",
    "#iterating over a list\n",
    "print(\"\\n\")\n",
    "x = [\"W\", \"o\", \"r\", \"l\", \"d\"]\n",
    "for c in x:\n",
    "    print (c, end=\" \")\n",
    "    \n",
    "#iterating over a dictionary\n",
    "print(\"\\n\")\n",
    "student = {\"name\" : \"Ahmed\", \"id\":20150001, \"courses\":[\"CIE 417\", \"CIE 418\", \"CIE 419\"]}\n",
    "for key in student:\n",
    "    print (key, student[key])\n",
    "    \n",
    "#iterating over a list of tuples\n",
    "print(\"\\n\")\n",
    "student = [(\"Ahmed\", 20150001, [\"CIE 417\", \"CIE 418\", \"CIE 419\"]), (\"Mohamed\", 20150002, [\"CIE 417\", \"CIE 418\", \"CIE 419\"])]\n",
    "for name, uni_id, courses in student:\n",
    "    print (name, uni_id, courses)"
   ]
  },
  {
   "cell_type": "code",
   "execution_count": 0,
   "metadata": {
    "colab": {
     "base_uri": "https://localhost:8080/",
     "height": 68
    },
    "colab_type": "code",
    "executionInfo": {
     "elapsed": 924,
     "status": "ok",
     "timestamp": 1548875953976,
     "user": {
      "displayName": "Youssef Mansour",
      "photoUrl": "",
      "userId": "12155639947958617468"
     },
     "user_tz": -120
    },
    "id": "3gzJtNloMfcO",
    "outputId": "3b86f4ed-52b0-4a03-a13e-c81002190459"
   },
   "outputs": [
    {
     "name": "stdout",
     "output_type": "stream",
     "text": [
      "name Ahmed\n",
      "id 20150001\n",
      "courses ['CIE 417', 'CIE 418', 'CIE 419']\n"
     ]
    }
   ],
   "source": [
    "student = {\"name\" : \"Ahmed\", \"id\":20150001, \"courses\":[\"CIE 417\", \"CIE 418\", \"CIE 419\"]}\n",
    "for key, value in student.items():\n",
    "    print (key, value)"
   ]
  },
  {
   "cell_type": "code",
   "execution_count": 0,
   "metadata": {
    "colab": {},
    "colab_type": "code",
    "id": "cCPhslHHDa4l",
    "outputId": "bac84f28-beb3-4da5-c79f-f1e9fea01bb9"
   },
   "outputs": [
    {
     "name": "stdout",
     "output_type": "stream",
     "text": [
      "['0', '2', '4', '6', '8', '10', '12', '14', '16', '18']\n"
     ]
    }
   ],
   "source": [
    "#list comprehension, for example create a list of even numbers as strings\n",
    "y = [str(i) for i in range(20) if i%2==0]\n",
    "print(y)"
   ]
  },
  {
   "cell_type": "markdown",
   "metadata": {
    "colab_type": "text",
    "id": "vg2RlvxNDa4p"
   },
   "source": [
    "### Functions"
   ]
  },
  {
   "cell_type": "code",
   "execution_count": 0,
   "metadata": {
    "colab": {},
    "colab_type": "code",
    "id": "J5N7pX9UDa4q",
    "outputId": "d8e90e44-22fa-471e-99f0-5643d4e609f0"
   },
   "outputs": [
    {
     "name": "stdout",
     "output_type": "stream",
     "text": [
      "27\n",
      "9\n",
      "27\n"
     ]
    }
   ],
   "source": [
    "def power(x, y=2): #y has a default value\n",
    "    result = x**y\n",
    "    return result\n",
    "\n",
    "Result = power(3,3)\n",
    "print (Result)\n",
    "\n",
    "Result = power(3) #use default value of y\n",
    "print (Result)\n",
    "\n",
    "Result = power(x=3,y=3) #to remove ambiguities\n",
    "print (Result)"
   ]
  },
  {
   "cell_type": "code",
   "execution_count": 0,
   "metadata": {
    "colab": {
     "base_uri": "https://localhost:8080/",
     "height": 68
    },
    "colab_type": "code",
    "executionInfo": {
     "elapsed": 618,
     "status": "ok",
     "timestamp": 1548877676275,
     "user": {
      "displayName": "Youssef Mansour",
      "photoUrl": "",
      "userId": "12155639947958617468"
     },
     "user_tz": -120
    },
    "id": "ee6-bFWSDa4v",
    "outputId": "abd33f3e-ea1f-4d72-abd9-7b8a51b7fb8d"
   },
   "outputs": [
    {
     "name": "stdout",
     "output_type": "stream",
     "text": [
      "ccc1.00ccc/1/2018\n",
      "cc20.00ccc/1/2018\n",
      "cc20.00ccc/9/2018\n"
     ]
    }
   ],
   "source": [
    "#we can choose what parameters to use if they have default values\n",
    "def date(year, month=1, day=1):\n",
    "    print(f\"{day:^10.2f}/{month}/{year}\")\n",
    "    \n",
    "date(2018)\n",
    "date(2018, day=20)\n",
    "date(2018, day=20, month=9) #arbitrary order"
   ]
  },
  {
   "cell_type": "code",
   "execution_count": 0,
   "metadata": {
    "colab": {},
    "colab_type": "code",
    "id": "vHV-jW1nDa40",
    "outputId": "65e2f779-d658-4b5d-9d84-7fb7edf4b493"
   },
   "outputs": [
    {
     "name": "stdout",
     "output_type": "stream",
     "text": [
      "x = x, y = [1, 2]\n",
      "x = [1, 2], y = x\n",
      "('x', [1, 2])\n"
     ]
    }
   ],
   "source": [
    "#return multiple outputs\n",
    "def reverse_inputs(x,y):\n",
    "    return y,x #a tuple\n",
    "\n",
    "x = \"x\"\n",
    "y = [1,2]\n",
    "print (f\"x = {x}, y = {y}\")\n",
    "\n",
    "x,y = reverse_inputs(x,y) #unpack resulting tuple\n",
    "print (f\"x = {x}, y = {y}\")\n",
    "\n",
    "result = reverse_inputs(x,y) #return as a tuple\n",
    "print (result)"
   ]
  },
  {
   "cell_type": "code",
   "execution_count": 0,
   "metadata": {
    "colab": {},
    "colab_type": "code",
    "id": "-4XwSRQmDa46",
    "outputId": "30ac66f3-9f21-407e-b881-c83f8f3bcd02",
    "scrolled": true
   },
   "outputs": [
    {
     "name": "stdout",
     "output_type": "stream",
     "text": [
      "foo_local\n",
      "local x = ['y']\n",
      "global x = ['s']\n",
      "\n",
      "foo_local\n",
      "local x = ['y']\n",
      "global x = ['y']\n",
      "\n"
     ]
    }
   ],
   "source": [
    "#use global keyword inside function to change the global variable and not the local variable\n",
    "x = [\"s\"]\n",
    "def foo_local():\n",
    "    x = [\"y\"]\n",
    "    print(\"foo_local\")\n",
    "    print(f\"local x = {x}\")\n",
    "\n",
    "foo_local()\n",
    "print(f\"global x = {x}\\n\")\n",
    "\n",
    "x = [\"s\"]\n",
    "def foo_global():\n",
    "    global x\n",
    "    x = [\"y\"]\n",
    "    print(\"foo_local\")\n",
    "    print(f\"local x = {x}\")\n",
    "\n",
    "foo_global()\n",
    "print(f\"global x = {x}\\n\")"
   ]
  },
  {
   "cell_type": "code",
   "execution_count": 0,
   "metadata": {
    "colab": {},
    "colab_type": "code",
    "id": "hnn8gYhUDa49",
    "outputId": "0004f143-9493-4861-d08d-f543e9e35251"
   },
   "outputs": [
    {
     "name": "stdout",
     "output_type": "stream",
     "text": [
      "[3, 5]\n",
      "[3, 5]\n"
     ]
    }
   ],
   "source": [
    "x = [3]\n",
    "def foo(x):\n",
    "    x.append(5)\n",
    "    print(x)\n",
    "foo(x)\n",
    "print(x)"
   ]
  },
  {
   "cell_type": "markdown",
   "metadata": {
    "colab_type": "text",
    "id": "CXfMqg9iDa5B"
   },
   "source": [
    "### Classes"
   ]
  },
  {
   "cell_type": "code",
   "execution_count": 0,
   "metadata": {
    "colab": {},
    "colab_type": "code",
    "id": "yev1Sc-HDa5B"
   },
   "outputs": [],
   "source": [
    "class Stack(object):\n",
    "    def __init__(self, stack = None): #Initialize the stack\n",
    "        if stack == None:\n",
    "          self.stack = [ ]\n",
    "        else:\n",
    "          self.stack = stack\n",
    "    def push(self,object):\n",
    "        self.stack.append(object)\n",
    "    def pop(self):\n",
    "        return self.stack.pop()\n",
    "    def length(self):\n",
    "        return len(self.stack)\n",
    "    def __len__(self):\n",
    "        return len(self.stack)\n",
    "    def __add__(self,other):\n",
    "        newStack = self.stack.copy()\n",
    "        newStack.append(other)\n",
    "        return Stack(newStack)\n",
    "    def __radd__(self,other):\n",
    "        return self.__add__(other)\n",
    "    def __str__(self):\n",
    "        return f\"({self.stack})\""
   ]
  },
  {
   "cell_type": "code",
   "execution_count": 0,
   "metadata": {
    "colab": {},
    "colab_type": "code",
    "id": "pRxwM-7QDa5D"
   },
   "outputs": [],
   "source": [
    "x = Stack() #create a new object x\n",
    "x.push(\"h\")\n",
    "x.push([\"e\",\"l\"])\n",
    "x.push((\"l\",\"o\"))"
   ]
  },
  {
   "cell_type": "code",
   "execution_count": 0,
   "metadata": {
    "colab": {},
    "colab_type": "code",
    "id": "jyZ-RUCtOIRQ"
   },
   "outputs": [],
   "source": [
    "y = 3+x"
   ]
  },
  {
   "cell_type": "code",
   "execution_count": 0,
   "metadata": {
    "colab": {
     "base_uri": "https://localhost:8080/",
     "height": 34
    },
    "colab_type": "code",
    "executionInfo": {
     "elapsed": 817,
     "status": "ok",
     "timestamp": 1548926885323,
     "user": {
      "displayName": "Youssef Mansour",
      "photoUrl": "",
      "userId": "12155639947958617468"
     },
     "user_tz": -120
    },
    "id": "WQ7ygRuEOBEc",
    "outputId": "c678efd7-e972-4167-d12c-4f9081bab4ca"
   },
   "outputs": [
    {
     "data": {
      "text/plain": [
       "['h', ['e', 'l'], ('l', 'o'), 3]"
      ]
     },
     "execution_count": 30,
     "metadata": {
      "tags": []
     },
     "output_type": "execute_result"
    }
   ],
   "source": [
    "y.stack"
   ]
  },
  {
   "cell_type": "code",
   "execution_count": 0,
   "metadata": {
    "colab": {
     "base_uri": "https://localhost:8080/",
     "height": 34
    },
    "colab_type": "code",
    "executionInfo": {
     "elapsed": 468,
     "status": "ok",
     "timestamp": 1548926532762,
     "user": {
      "displayName": "Youssef Mansour",
      "photoUrl": "",
      "userId": "12155639947958617468"
     },
     "user_tz": -120
    },
    "id": "SetRuLNVDa5E",
    "outputId": "77587710-132a-4237-a485-ddae8c3cf294"
   },
   "outputs": [
    {
     "data": {
      "text/plain": [
       "3"
      ]
     },
     "execution_count": 10,
     "metadata": {
      "tags": []
     },
     "output_type": "execute_result"
    }
   ],
   "source": [
    "x.length()"
   ]
  },
  {
   "cell_type": "code",
   "execution_count": 0,
   "metadata": {
    "colab": {
     "base_uri": "https://localhost:8080/",
     "height": 34
    },
    "colab_type": "code",
    "executionInfo": {
     "elapsed": 636,
     "status": "ok",
     "timestamp": 1548926538951,
     "user": {
      "displayName": "Youssef Mansour",
      "photoUrl": "",
      "userId": "12155639947958617468"
     },
     "user_tz": -120
    },
    "id": "fcvOKceiN0QQ",
    "outputId": "0c4e966f-e8a5-40e0-f24f-a03afcf51617"
   },
   "outputs": [
    {
     "data": {
      "text/plain": [
       "3"
      ]
     },
     "execution_count": 11,
     "metadata": {
      "tags": []
     },
     "output_type": "execute_result"
    }
   ],
   "source": [
    "len(x)"
   ]
  },
  {
   "cell_type": "code",
   "execution_count": 0,
   "metadata": {
    "colab": {},
    "colab_type": "code",
    "id": "-uG2FofqDa5H",
    "outputId": "c8e21ba3-5241-4dc6-c29c-5f6af90082e9"
   },
   "outputs": [
    {
     "name": "stdout",
     "output_type": "stream",
     "text": [
      "('l', 'o')\n",
      "['e', 'l']\n",
      "h\n"
     ]
    }
   ],
   "source": [
    "while x.length() > 0:\n",
    "    print(x.pop())"
   ]
  },
  {
   "cell_type": "code",
   "execution_count": 0,
   "metadata": {
    "colab": {},
    "colab_type": "code",
    "id": "D5A-0Ww8yr4D"
   },
   "outputs": [],
   "source": [
    "# built-in functiona overloading\n",
    "# https://realpython.com/operator-function-overloading/"
   ]
  },
  {
   "cell_type": "markdown",
   "metadata": {
    "colab_type": "text",
    "id": "3h5ytUdfDa5K"
   },
   "source": [
    "### Numpy"
   ]
  },
  {
   "cell_type": "code",
   "execution_count": 0,
   "metadata": {
    "colab": {},
    "colab_type": "code",
    "id": "vyWnQk4YDa5L"
   },
   "outputs": [],
   "source": [
    "import numpy as np"
   ]
  },
  {
   "cell_type": "code",
   "execution_count": 0,
   "metadata": {
    "colab": {},
    "colab_type": "code",
    "id": "i_uFrKcrDa5O",
    "outputId": "d336cff0-57ae-4a53-ce96-d065b50232c7"
   },
   "outputs": [
    {
     "name": "stdout",
     "output_type": "stream",
     "text": [
      "<class 'numpy.ndarray'>\n",
      "[[1. 2. 3.]\n",
      " [4. 5. 6.]]\n",
      "shape: (2, 3)\n"
     ]
    }
   ],
   "source": [
    "#array initialization from list\n",
    "x = [[1,2,3],[4,5,6]]\n",
    "x_np = np.array(x, dtype=np.float64)\n",
    "print(type(x_np))\n",
    "print(x_np)\n",
    "print(f\"shape: {x_np.shape}\")"
   ]
  },
  {
   "cell_type": "code",
   "execution_count": 0,
   "metadata": {
    "colab": {
     "base_uri": "https://localhost:8080/",
     "height": 306
    },
    "colab_type": "code",
    "executionInfo": {
     "elapsed": 798,
     "status": "ok",
     "timestamp": 1548881626839,
     "user": {
      "displayName": "Youssef Mansour",
      "photoUrl": "",
      "userId": "12155639947958617468"
     },
     "user_tz": -120
    },
    "id": "00Q7p44kDa5R",
    "outputId": "13a1464b-4b8e-491d-e8f9-3412cbb3c86a"
   },
   "outputs": [
    {
     "name": "stdout",
     "output_type": "stream",
     "text": [
      "[[1. 1. 1.]\n",
      " [1. 1. 1.]]\n",
      "shape: (2, 3)\n",
      "\n",
      "[[[0. 0.]\n",
      "  [0. 0.]\n",
      "  [0. 0.]]\n",
      "\n",
      " [[0. 0.]\n",
      "  [0. 0.]\n",
      "  [0. 0.]]\n",
      "\n",
      " [[0. 0.]\n",
      "  [0. 0.]\n",
      "  [0. 0.]]]\n",
      "shape: (3, 3, 2)\n",
      "\n"
     ]
    }
   ],
   "source": [
    "#array initialization from ones or zeros\n",
    "x = np.ones((2,3))\n",
    "y = np.zeros((3,3,2))\n",
    "print(x)\n",
    "print(f\"shape: {x.shape}\\n\")\n",
    "print(y)\n",
    "print(f\"shape: {y.shape}\\n\")"
   ]
  },
  {
   "cell_type": "code",
   "execution_count": 0,
   "metadata": {
    "colab": {
     "base_uri": "https://localhost:8080/",
     "height": 34
    },
    "colab_type": "code",
    "executionInfo": {
     "elapsed": 809,
     "status": "ok",
     "timestamp": 1548881642635,
     "user": {
      "displayName": "Youssef Mansour",
      "photoUrl": "",
      "userId": "12155639947958617468"
     },
     "user_tz": -120
    },
    "id": "stOLIKdNigsQ",
    "outputId": "b8eb4540-3e36-4980-c7b5-bdf9343e711d"
   },
   "outputs": [
    {
     "data": {
      "text/plain": [
       "dtype('float64')"
      ]
     },
     "execution_count": 17,
     "metadata": {
      "tags": []
     },
     "output_type": "execute_result"
    }
   ],
   "source": [
    "x.dtype"
   ]
  },
  {
   "cell_type": "code",
   "execution_count": 0,
   "metadata": {
    "colab": {},
    "colab_type": "code",
    "id": "QTL75YRXDa5U",
    "outputId": "d171b7d1-4d84-4841-e1bc-114c0bedbc98"
   },
   "outputs": [
    {
     "name": "stdout",
     "output_type": "stream",
     "text": [
      "[[1. 0. 0. 0.]\n",
      " [0. 1. 0. 0.]\n",
      " [0. 0. 1. 0.]\n",
      " [0. 0. 0. 1.]]\n",
      "\n",
      "[[1. 0. 0. 0.]\n",
      " [0. 1. 0. 0.]\n",
      " [0. 0. 1. 0.]\n",
      " [0. 0. 0. 1.]]\n"
     ]
    }
   ],
   "source": [
    "#initialization from identity\n",
    "x = np.eye(4)\n",
    "y = np.identity(4)\n",
    "print(x)\n",
    "print(\"\")\n",
    "print(y)"
   ]
  },
  {
   "cell_type": "code",
   "execution_count": 0,
   "metadata": {
    "colab": {},
    "colab_type": "code",
    "id": "rxrdvScKDa5W",
    "outputId": "e59391a0-ab46-4cb5-ed4d-f4d8071f55de"
   },
   "outputs": [
    {
     "data": {
      "text/plain": [
       "array([0, 2, 4, 6, 8])"
      ]
     },
     "execution_count": 135,
     "metadata": {
      "tags": []
     },
     "output_type": "execute_result"
    }
   ],
   "source": [
    "#np.arange is similar to the normal range\n",
    "print (np.arange(0,10,2))"
   ]
  },
  {
   "cell_type": "code",
   "execution_count": 0,
   "metadata": {
    "colab": {},
    "colab_type": "code",
    "id": "ZqO0_DZkDa5X",
    "outputId": "2fbf272e-d637-477d-b14c-da230bc5ddfd"
   },
   "outputs": [
    {
     "name": "stdout",
     "output_type": "stream",
     "text": [
      "['1' '2' '3']\n",
      "[1 2 3]\n"
     ]
    }
   ],
   "source": [
    "#casting\n",
    "x = np.array([\"1\",\"2\",\"3\"])\n",
    "print(x)\n",
    "x = x.astype(np.int32)\n",
    "print(x)"
   ]
  },
  {
   "cell_type": "code",
   "execution_count": 0,
   "metadata": {
    "colab": {},
    "colab_type": "code",
    "id": "1ZgLCNepDa5c",
    "outputId": "78010760-d0b3-4644-eff3-34c80523909a"
   },
   "outputs": [
    {
     "name": "stdout",
     "output_type": "stream",
     "text": [
      "[[ 2  4  6]\n",
      " [12 15 18]]\n",
      "\n",
      "[[3 4 5]\n",
      " [7 8 9]]\n",
      "\n",
      "[[-1  0  1]\n",
      " [ 1  2  3]]\n",
      "\n",
      "[[0.5        1.         1.5       ]\n",
      " [1.33333333 1.66666667 2.        ]]\n",
      "\n",
      "[[  1   4   9]\n",
      " [ 64 125 216]]\n"
     ]
    }
   ],
   "source": [
    "#Arithematic operations between equal-sized arrays\n",
    "x = np.array([[1,2,3],[4,5,6]])\n",
    "y = np.array([[2,2,2],[3,3,3]])\n",
    "\n",
    "print(x*y)\n",
    "print()\n",
    "print(x+y)\n",
    "print()\n",
    "print(x-y)\n",
    "print()\n",
    "print(x/y)\n",
    "print()\n",
    "print(x**y)"
   ]
  },
  {
   "cell_type": "code",
   "execution_count": 0,
   "metadata": {
    "colab": {},
    "colab_type": "code",
    "id": "FmsCxvexDa5f",
    "outputId": "986d6e87-76c9-4f6c-f078-b4aceec99f92"
   },
   "outputs": [
    {
     "name": "stdout",
     "output_type": "stream",
     "text": [
      "[[ 2  4  6]\n",
      " [ 8 10 12]]\n",
      "\n",
      "[[3 4 5]\n",
      " [6 7 8]]\n",
      "\n",
      "[[ 1  0 -1]\n",
      " [-2 -3 -4]]\n",
      "\n",
      "[[2.         1.         0.66666667]\n",
      " [0.5        0.4        0.33333333]]\n",
      "\n",
      "[[ 1  4  9]\n",
      " [16 25 36]]\n"
     ]
    }
   ],
   "source": [
    "#Arithematic operations between arrays and scalars\n",
    "x = np.array([[1,2,3],[4,5,6]])\n",
    "\n",
    "print(x*2)\n",
    "print()\n",
    "print(x+2)\n",
    "print()\n",
    "print(2-x)\n",
    "print()\n",
    "print(2/x)\n",
    "print()\n",
    "print(x**2)"
   ]
  },
  {
   "cell_type": "code",
   "execution_count": 0,
   "metadata": {
    "colab": {
     "base_uri": "https://localhost:8080/",
     "height": 289
    },
    "colab_type": "code",
    "executionInfo": {
     "elapsed": 739,
     "status": "ok",
     "timestamp": 1548883404700,
     "user": {
      "displayName": "Youssef Mansour",
      "photoUrl": "",
      "userId": "12155639947958617468"
     },
     "user_tz": -120
    },
    "id": "18LDndnoDa5i",
    "outputId": "9ecbea6a-ae97-457e-92ed-5066d3fdf223"
   },
   "outputs": [
    {
     "name": "stdout",
     "output_type": "stream",
     "text": [
      "[[[1. 1. 1. 1.]\n",
      "  [1. 1. 1. 1.]\n",
      "  [1. 1. 1. 1.]]\n",
      "\n",
      " [[1. 1. 1. 1.]\n",
      "  [1. 1. 1. 1.]\n",
      "  [1. 1. 1. 1.]]]\n",
      "\n",
      "\n",
      "[[[ 1. 10. 10. 10.]\n",
      "  [ 1. 10. 10. 10.]\n",
      "  [ 1.  1.  1.  1.]]\n",
      "\n",
      " [[ 1.  1.  1.  1.]\n",
      "  [ 1.  1.  1.  1.]\n",
      "  [ 1.  1.  1.  1.]]]\n"
     ]
    }
   ],
   "source": [
    "#array slices are just views and not copies (not for lists)\n",
    "x = np.ones((2,3,4))\n",
    "print(x, end=\"\\n\\n\\n\")\n",
    "\n",
    "x_slice = x[0,:2,1:] # 1: means from 1 till the end, :2 means from the beginning till 2\n",
    "x_slice[:] = 10   #changing view(x_slice) changes original x\n",
    "print(x)"
   ]
  },
  {
   "cell_type": "code",
   "execution_count": 0,
   "metadata": {
    "colab": {},
    "colab_type": "code",
    "id": "l33KVkCjDa5j",
    "outputId": "ddc62fc0-9fe4-485f-bb09-af1401cd2c96"
   },
   "outputs": [
    {
     "name": "stdout",
     "output_type": "stream",
     "text": [
      "[[[1. 1. 1. 1.]\n",
      "  [1. 1. 1. 1.]\n",
      "  [1. 1. 1. 1.]]\n",
      "\n",
      " [[1. 1. 1. 1.]\n",
      "  [1. 1. 1. 1.]\n",
      "  [1. 1. 1. 1.]]]\n",
      "\n",
      "\n",
      "[[[1. 1. 1. 1.]\n",
      "  [1. 1. 1. 1.]\n",
      "  [1. 1. 1. 1.]]\n",
      "\n",
      " [[1. 1. 1. 1.]\n",
      "  [1. 1. 1. 1.]\n",
      "  [1. 1. 1. 1.]]]\n"
     ]
    }
   ],
   "source": [
    "#array.copy() creates a copy\n",
    "x = np.ones((2,3,4))\n",
    "print(x, end=\"\\n\\n\\n\")\n",
    "\n",
    "x_slice = x[0,:2,1:].copy()\n",
    "x_slice[:] = 10   #changing copy doesn't change original x\n",
    "print(x)"
   ]
  },
  {
   "cell_type": "code",
   "execution_count": 0,
   "metadata": {
    "colab": {
     "base_uri": "https://localhost:8080/",
     "height": 170
    },
    "colab_type": "code",
    "executionInfo": {
     "elapsed": 841,
     "status": "ok",
     "timestamp": 1548883445425,
     "user": {
      "displayName": "Youssef Mansour",
      "photoUrl": "",
      "userId": "12155639947958617468"
     },
     "user_tz": -120
    },
    "id": "guJt4o7qDa5n",
    "outputId": "e3f8b7cd-dd73-4aa3-cb7a-cb09d91bf318"
   },
   "outputs": [
    {
     "name": "stdout",
     "output_type": "stream",
     "text": [
      "[[ 0  1  2  3]\n",
      " [ 4  5  6  7]\n",
      " [ 8  9 10 11]\n",
      " [12 13 14 15]]\n",
      "\n",
      "[[ 0  4  8 12]\n",
      " [ 1  5  9 13]\n",
      " [ 2  6 10 14]\n",
      " [ 3  7 11 15]]\n"
     ]
    }
   ],
   "source": [
    "#transposing\n",
    "x = np.arange(16).reshape((4,4))\n",
    "print(x, end='\\n\\n')\n",
    "print(x.T)"
   ]
  },
  {
   "cell_type": "code",
   "execution_count": 0,
   "metadata": {
    "colab": {
     "base_uri": "https://localhost:8080/",
     "height": 102
    },
    "colab_type": "code",
    "executionInfo": {
     "elapsed": 697,
     "status": "ok",
     "timestamp": 1548883696600,
     "user": {
      "displayName": "Youssef Mansour",
      "photoUrl": "",
      "userId": "12155639947958617468"
     },
     "user_tz": -120
    },
    "id": "Y884YBG2pc6-",
    "outputId": "34a4ea93-6b28-4c22-e207-934a7f1590cf"
   },
   "outputs": [
    {
     "data": {
      "text/plain": [
       "array([[[ 0,  1,  2,  3],\n",
       "        [ 4,  5,  6,  7]],\n",
       "\n",
       "       [[ 8,  9, 10, 11],\n",
       "        [12, 13, 14, 15]]])"
      ]
     },
     "execution_count": 29,
     "metadata": {
      "tags": []
     },
     "output_type": "execute_result"
    }
   ],
   "source": [
    "x = np.arange(16).reshape((4,4))\n",
    "x.reshape(2,2,-1)"
   ]
  },
  {
   "cell_type": "code",
   "execution_count": 0,
   "metadata": {
    "colab": {
     "base_uri": "https://localhost:8080/",
     "height": 85
    },
    "colab_type": "code",
    "executionInfo": {
     "elapsed": 1003,
     "status": "ok",
     "timestamp": 1548883605379,
     "user": {
      "displayName": "Youssef Mansour",
      "photoUrl": "",
      "userId": "12155639947958617468"
     },
     "user_tz": -120
    },
    "id": "XxwJ7Gppp7Pv",
    "outputId": "c067c4fa-663a-4edb-c3db-6955af6a9c86"
   },
   "outputs": [
    {
     "data": {
      "text/plain": [
       "array([[ 0,  1,  2,  3],\n",
       "       [ 4,  5,  6,  7],\n",
       "       [ 8,  9, 10, 11],\n",
       "       [12, 13, 14, 15]])"
      ]
     },
     "execution_count": 25,
     "metadata": {
      "tags": []
     },
     "output_type": "execute_result"
    }
   ],
   "source": [
    "x"
   ]
  },
  {
   "cell_type": "code",
   "execution_count": 0,
   "metadata": {
    "colab": {
     "base_uri": "https://localhost:8080/",
     "height": 170
    },
    "colab_type": "code",
    "executionInfo": {
     "elapsed": 1694,
     "status": "ok",
     "timestamp": 1548883779059,
     "user": {
      "displayName": "Youssef Mansour",
      "photoUrl": "",
      "userId": "12155639947958617468"
     },
     "user_tz": -120
    },
    "id": "an51x654Da5o",
    "outputId": "71055b75-fcaa-4f73-a6a9-853d7d3517b1"
   },
   "outputs": [
    {
     "name": "stdout",
     "output_type": "stream",
     "text": [
      "[[-0.23930712 -1.28435814 -0.27368768  0.0447967 ]\n",
      " [ 0.18539207  0.01663761  1.1514156   1.53449588]\n",
      " [-0.78730674 -0.74409676 -1.75035204  0.21111929]\n",
      " [-0.70324217 -0.10095388 -1.91615484  0.66550451]]\n",
      "\n",
      "[[ 4.40036684 -1.6216602  -8.46293201  6.12767768]\n",
      " [-1.28879112  0.16458302  0.96557883 -0.59905032]\n",
      " [-1.36985951  0.69827661  2.70231619 -2.37511307]\n",
      " [ 0.51021765  0.32186342 -1.01570388  1.04834829]]\n"
     ]
    }
   ],
   "source": [
    "#inverse\n",
    "from numpy.linalg import inv\n",
    "x = np.random.randn(4,4)\n",
    "print(x, end='\\n\\n')\n",
    "print(inv(x))"
   ]
  },
  {
   "cell_type": "code",
   "execution_count": 0,
   "metadata": {
    "colab": {},
    "colab_type": "code",
    "id": "xBO0hzETqij3"
   },
   "outputs": [],
   "source": [
    "x = np.array([[1,1],[0,0]])"
   ]
  },
  {
   "cell_type": "code",
   "execution_count": 0,
   "metadata": {
    "colab": {},
    "colab_type": "code",
    "id": "NdKrtiZvqqZW"
   },
   "outputs": [],
   "source": [
    "inv(x)"
   ]
  },
  {
   "cell_type": "code",
   "execution_count": 0,
   "metadata": {
    "colab": {},
    "colab_type": "code",
    "id": "Rsi7-y0zDa5q",
    "outputId": "fc2c8eac-ddbd-4696-fe45-700a230c884d"
   },
   "outputs": [
    {
     "name": "stdout",
     "output_type": "stream",
     "text": [
      "[[3 1 2]\n",
      " [2 1 0]\n",
      " [4 3 2]]\n"
     ]
    },
    {
     "data": {
      "text/plain": [
       "6.0"
      ]
     },
     "execution_count": 239,
     "metadata": {
      "tags": []
     },
     "output_type": "execute_result"
    }
   ],
   "source": [
    "#determinant\n",
    "x = np.random.randint(5, size=(3,3))\n",
    "print(x)\n",
    "np.linalg.det(x)"
   ]
  },
  {
   "cell_type": "code",
   "execution_count": 0,
   "metadata": {
    "colab": {},
    "colab_type": "code",
    "id": "mFSzbD-SDa5t",
    "outputId": "bb5ed3dd-3c76-43db-a85b-4f27226a6cfd"
   },
   "outputs": [
    {
     "name": "stdout",
     "output_type": "stream",
     "text": [
      "[[0 3 4]\n",
      " [3 4 4]\n",
      " [1 0 2]]\n"
     ]
    },
    {
     "data": {
      "text/plain": [
       "6"
      ]
     },
     "execution_count": 241,
     "metadata": {
      "tags": []
     },
     "output_type": "execute_result"
    }
   ],
   "source": [
    "#trace\n",
    "x = np.random.randint(5, size=(3,3))\n",
    "print(x)\n",
    "np.trace(x)"
   ]
  },
  {
   "cell_type": "code",
   "execution_count": 0,
   "metadata": {
    "colab": {},
    "colab_type": "code",
    "id": "cG48YdhVDa5v",
    "outputId": "868532e3-65c1-4528-9ab2-37757d89851b"
   },
   "outputs": [
    {
     "name": "stdout",
     "output_type": "stream",
     "text": [
      "[[ 0.6483711   0.2199622  -1.16126007]\n",
      " [ 0.02669981  0.03393603 -1.22005731]\n",
      " [-1.15307105 -2.15821486  1.11992944]]\n",
      "\n",
      "eigenvalues = [ 2.7758426   0.36542654 -1.33903258]\n",
      "corresponding eigenvectors = \n",
      "[[-0.47522548 -0.89279504  0.34350019]\n",
      " [-0.36155588  0.4293791   0.62009506]\n",
      " [ 0.80214593 -0.13620061  0.70532952]]\n"
     ]
    }
   ],
   "source": [
    "#eigenvalues and eigenvectors\n",
    "x = np.random.randn(3,3)\n",
    "print(x, end='\\n\\n')\n",
    "eigenvalues, eigenvectors = np.linalg.eig(x)\n",
    "print(f\"eigenvalues = {eigenvalues}\\ncorresponding eigenvectors = \\n{eigenvectors}\")"
   ]
  },
  {
   "cell_type": "code",
   "execution_count": 0,
   "metadata": {
    "colab": {},
    "colab_type": "code",
    "id": "I_lIaF_HDa5y",
    "outputId": "bdf57dde-d286-4c9e-f102-70c90fa0a56e"
   },
   "outputs": [
    {
     "name": "stdout",
     "output_type": "stream",
     "text": [
      "[[1 2 3]\n",
      " [2 3 5]\n",
      " [3 1 4]] x [ 0.65384615 -0.34615385  0.34615385] = [1 2 3]\n"
     ]
    }
   ],
   "source": [
    "#solve\n",
    "a = np.array([[1,2,3],[2,3,5],[3,1,4]])\n",
    "b = np.array([1,2,3])\n",
    "x = np.linalg.solve(a,b)\n",
    "print(f\"{a} x {x} = {b}\")"
   ]
  },
  {
   "cell_type": "code",
   "execution_count": 0,
   "metadata": {
    "colab": {},
    "colab_type": "code",
    "id": "TjLrdvWLDa53",
    "outputId": "aca70697-0edf-47ef-b912-6bbda4c14026"
   },
   "outputs": [
    {
     "name": "stdout",
     "output_type": "stream",
     "text": [
      "1.0 -0.95\n"
     ]
    }
   ],
   "source": [
    "#least square solution for y = wx + b\n",
    "x = np.array([0, 1, 2, 3])\n",
    "A = np.vstack([x, np.ones(len(x))]).T #include the bias term in A\n",
    "y = np.array([-1, 0.2, 0.9, 2.1])\n",
    "\n",
    "w, b = np.linalg.lstsq(A,y, rcond=None)[0]\n",
    "print(round(w,2),round(b,2))"
   ]
  },
  {
   "cell_type": "markdown",
   "metadata": {
    "colab_type": "text",
    "id": "VG72ezPUDa56"
   },
   "source": [
    "### Resources\n",
    "* https://docs.python.org/3/tutorial/introduction.html\n",
    "* Python for Data Analysis by Wes McKinney (1st Edition)\n",
    "* Python Essential Reference by David Beazley (4th Edition)\n",
    "* https://pandas.pydata.org/pandas-docs/stable/10min.html (for a pandas quick tutorial)\n",
    "* https://nlp.stanford.edu/IR-book/html/htmledition/linear-algebra-review-1.html"
   ]
  }
 ],
 "metadata": {
  "colab": {
   "collapsed_sections": [
    "echFTCL1Da0x",
    "AePk7JFlDa1C",
    "SWyefJ-pDa1c",
    "9MR0xJNdDa2x",
    "qptB60LmDa3m",
    "vg2RlvxNDa4p",
    "3h5ytUdfDa5K",
    "VG72ezPUDa56"
   ],
   "name": "Lab1_Python_Tutorial.ipynb",
   "provenance": [],
   "version": "0.3.2"
  },
  "kernelspec": {
   "display_name": "Python 3",
   "language": "python",
   "name": "python3"
  },
  "language_info": {
   "codemirror_mode": {
    "name": "ipython",
    "version": 3
   },
   "file_extension": ".py",
   "mimetype": "text/x-python",
   "name": "python",
   "nbconvert_exporter": "python",
   "pygments_lexer": "ipython3",
   "version": "3.6.5"
  }
 },
 "nbformat": 4,
 "nbformat_minor": 1
}
